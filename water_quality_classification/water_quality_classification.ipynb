{
 "cells": [
  {
   "cell_type": "code",
   "execution_count": 1,
   "metadata": {},
   "outputs": [],
   "source": [
    "import pandas as pd\n",
    "import numpy as np\n",
    "\n",
    "from sklearn.svm import SVC\n",
    "from sklearn.linear_model import LogisticRegression\n",
    "from sklearn.cluster import KMeans"
   ]
  },
  {
   "cell_type": "code",
   "execution_count": 284,
   "metadata": {},
   "outputs": [
    {
     "data": {
      "text/html": [
       "<div>\n",
       "<style scoped>\n",
       "    .dataframe tbody tr th:only-of-type {\n",
       "        vertical-align: middle;\n",
       "    }\n",
       "\n",
       "    .dataframe tbody tr th {\n",
       "        vertical-align: top;\n",
       "    }\n",
       "\n",
       "    .dataframe thead th {\n",
       "        text-align: right;\n",
       "    }\n",
       "</style>\n",
       "<table border=\"1\" class=\"dataframe\">\n",
       "  <thead>\n",
       "    <tr style=\"text-align: right;\">\n",
       "      <th></th>\n",
       "      <th>ph</th>\n",
       "      <th>Hardness</th>\n",
       "      <th>Solids</th>\n",
       "      <th>Chloramines</th>\n",
       "      <th>Sulfate</th>\n",
       "      <th>Conductivity</th>\n",
       "      <th>Organic_carbon</th>\n",
       "      <th>Trihalomethanes</th>\n",
       "      <th>Turbidity</th>\n",
       "      <th>Potability</th>\n",
       "    </tr>\n",
       "  </thead>\n",
       "  <tbody>\n",
       "    <tr>\n",
       "      <th>0</th>\n",
       "      <td>6.150553</td>\n",
       "      <td>212.819377</td>\n",
       "      <td>15017.747281</td>\n",
       "      <td>5.544436</td>\n",
       "      <td>319.494952</td>\n",
       "      <td>279.447066</td>\n",
       "      <td>12.850506</td>\n",
       "      <td>75.028793</td>\n",
       "      <td>4.810537</td>\n",
       "      <td>0</td>\n",
       "    </tr>\n",
       "    <tr>\n",
       "      <th>1</th>\n",
       "      <td>NaN</td>\n",
       "      <td>180.680598</td>\n",
       "      <td>8692.538152</td>\n",
       "      <td>8.671793</td>\n",
       "      <td>396.528754</td>\n",
       "      <td>534.339086</td>\n",
       "      <td>10.299787</td>\n",
       "      <td>87.652015</td>\n",
       "      <td>3.913602</td>\n",
       "      <td>0</td>\n",
       "    </tr>\n",
       "    <tr>\n",
       "      <th>2</th>\n",
       "      <td>5.344117</td>\n",
       "      <td>198.379144</td>\n",
       "      <td>13492.840835</td>\n",
       "      <td>6.559265</td>\n",
       "      <td>328.648845</td>\n",
       "      <td>591.363369</td>\n",
       "      <td>14.084388</td>\n",
       "      <td>61.392983</td>\n",
       "      <td>4.104699</td>\n",
       "      <td>1</td>\n",
       "    </tr>\n",
       "    <tr>\n",
       "      <th>3</th>\n",
       "      <td>7.647872</td>\n",
       "      <td>160.774353</td>\n",
       "      <td>29000.589712</td>\n",
       "      <td>7.217409</td>\n",
       "      <td>NaN</td>\n",
       "      <td>438.800961</td>\n",
       "      <td>13.182501</td>\n",
       "      <td>67.099969</td>\n",
       "      <td>3.078673</td>\n",
       "      <td>1</td>\n",
       "    </tr>\n",
       "    <tr>\n",
       "      <th>4</th>\n",
       "      <td>8.129586</td>\n",
       "      <td>177.898967</td>\n",
       "      <td>27834.217696</td>\n",
       "      <td>9.006008</td>\n",
       "      <td>334.438539</td>\n",
       "      <td>397.021428</td>\n",
       "      <td>15.936262</td>\n",
       "      <td>81.390758</td>\n",
       "      <td>3.362537</td>\n",
       "      <td>0</td>\n",
       "    </tr>\n",
       "  </tbody>\n",
       "</table>\n",
       "</div>"
      ],
      "text/plain": [
       "         ph    Hardness        Solids  Chloramines     Sulfate  Conductivity  \\\n",
       "0  6.150553  212.819377  15017.747281     5.544436  319.494952    279.447066   \n",
       "1       NaN  180.680598   8692.538152     8.671793  396.528754    534.339086   \n",
       "2  5.344117  198.379144  13492.840835     6.559265  328.648845    591.363369   \n",
       "3  7.647872  160.774353  29000.589712     7.217409         NaN    438.800961   \n",
       "4  8.129586  177.898967  27834.217696     9.006008  334.438539    397.021428   \n",
       "\n",
       "   Organic_carbon  Trihalomethanes  Turbidity  Potability  \n",
       "0       12.850506        75.028793   4.810537           0  \n",
       "1       10.299787        87.652015   3.913602           0  \n",
       "2       14.084388        61.392983   4.104699           1  \n",
       "3       13.182501        67.099969   3.078673           1  \n",
       "4       15.936262        81.390758   3.362537           0  "
      ]
     },
     "execution_count": 284,
     "metadata": {},
     "output_type": "execute_result"
    }
   ],
   "source": [
    "df = pd.read_csv(\"data.csv\")\n",
    "df.head()"
   ]
  },
  {
   "cell_type": "code",
   "execution_count": 285,
   "metadata": {},
   "outputs": [
    {
     "name": "stdout",
     "output_type": "stream",
     "text": [
      "(2620, 10)\n",
      "ph -- 386\n",
      "Hardness -- 0\n",
      "Solids -- 0\n",
      "Chloramines -- 0\n",
      "Sulfate -- 621\n",
      "Conductivity -- 0\n",
      "Organic_carbon -- 0\n",
      "Trihalomethanes -- 125\n",
      "Turbidity -- 0\n",
      "Potability -- 0\n"
     ]
    }
   ],
   "source": [
    "print(df.shape)\n",
    "\n",
    "for col in df.columns:\n",
    "    df[col].astype(np.float64)\n",
    "    print(col, \"--\", df[col].isnull().sum())"
   ]
  },
  {
   "cell_type": "code",
   "execution_count": 286,
   "metadata": {},
   "outputs": [
    {
     "data": {
      "text/html": [
       "<div>\n",
       "<style scoped>\n",
       "    .dataframe tbody tr th:only-of-type {\n",
       "        vertical-align: middle;\n",
       "    }\n",
       "\n",
       "    .dataframe tbody tr th {\n",
       "        vertical-align: top;\n",
       "    }\n",
       "\n",
       "    .dataframe thead th {\n",
       "        text-align: right;\n",
       "    }\n",
       "</style>\n",
       "<table border=\"1\" class=\"dataframe\">\n",
       "  <thead>\n",
       "    <tr style=\"text-align: right;\">\n",
       "      <th></th>\n",
       "      <th>ph</th>\n",
       "      <th>Hardness</th>\n",
       "      <th>Solids</th>\n",
       "      <th>Chloramines</th>\n",
       "      <th>Sulfate</th>\n",
       "      <th>Conductivity</th>\n",
       "      <th>Organic_carbon</th>\n",
       "      <th>Trihalomethanes</th>\n",
       "      <th>Turbidity</th>\n",
       "      <th>Potability</th>\n",
       "    </tr>\n",
       "  </thead>\n",
       "  <tbody>\n",
       "    <tr>\n",
       "      <th>ph</th>\n",
       "      <td>1.000000</td>\n",
       "      <td>0.108426</td>\n",
       "      <td>-0.104319</td>\n",
       "      <td>-0.031725</td>\n",
       "      <td>-0.005919</td>\n",
       "      <td>0.025069</td>\n",
       "      <td>0.045838</td>\n",
       "      <td>0.004460</td>\n",
       "      <td>-0.020666</td>\n",
       "      <td>-0.018887</td>\n",
       "    </tr>\n",
       "    <tr>\n",
       "      <th>Hardness</th>\n",
       "      <td>0.108426</td>\n",
       "      <td>1.000000</td>\n",
       "      <td>-0.068997</td>\n",
       "      <td>-0.029451</td>\n",
       "      <td>-0.119410</td>\n",
       "      <td>-0.015325</td>\n",
       "      <td>0.011500</td>\n",
       "      <td>-0.025106</td>\n",
       "      <td>-0.006441</td>\n",
       "      <td>-0.008904</td>\n",
       "    </tr>\n",
       "    <tr>\n",
       "      <th>Solids</th>\n",
       "      <td>-0.104319</td>\n",
       "      <td>-0.068997</td>\n",
       "      <td>1.000000</td>\n",
       "      <td>-0.072097</td>\n",
       "      <td>-0.165942</td>\n",
       "      <td>0.014450</td>\n",
       "      <td>0.007705</td>\n",
       "      <td>-0.004758</td>\n",
       "      <td>0.012661</td>\n",
       "      <td>0.036320</td>\n",
       "    </tr>\n",
       "    <tr>\n",
       "      <th>Chloramines</th>\n",
       "      <td>-0.031725</td>\n",
       "      <td>-0.029451</td>\n",
       "      <td>-0.072097</td>\n",
       "      <td>1.000000</td>\n",
       "      <td>0.032420</td>\n",
       "      <td>-0.018341</td>\n",
       "      <td>-0.017692</td>\n",
       "      <td>0.015644</td>\n",
       "      <td>-0.006820</td>\n",
       "      <td>0.016667</td>\n",
       "    </tr>\n",
       "    <tr>\n",
       "      <th>Sulfate</th>\n",
       "      <td>-0.005919</td>\n",
       "      <td>-0.119410</td>\n",
       "      <td>-0.165942</td>\n",
       "      <td>0.032420</td>\n",
       "      <td>1.000000</td>\n",
       "      <td>-0.020949</td>\n",
       "      <td>0.060243</td>\n",
       "      <td>-0.024933</td>\n",
       "      <td>-0.005274</td>\n",
       "      <td>-0.037177</td>\n",
       "    </tr>\n",
       "    <tr>\n",
       "      <th>Conductivity</th>\n",
       "      <td>0.025069</td>\n",
       "      <td>-0.015325</td>\n",
       "      <td>0.014450</td>\n",
       "      <td>-0.018341</td>\n",
       "      <td>-0.020949</td>\n",
       "      <td>1.000000</td>\n",
       "      <td>0.040572</td>\n",
       "      <td>0.000096</td>\n",
       "      <td>0.004164</td>\n",
       "      <td>-0.008071</td>\n",
       "    </tr>\n",
       "    <tr>\n",
       "      <th>Organic_carbon</th>\n",
       "      <td>0.045838</td>\n",
       "      <td>0.011500</td>\n",
       "      <td>0.007705</td>\n",
       "      <td>-0.017692</td>\n",
       "      <td>0.060243</td>\n",
       "      <td>0.040572</td>\n",
       "      <td>1.000000</td>\n",
       "      <td>-0.006994</td>\n",
       "      <td>-0.008384</td>\n",
       "      <td>-0.024479</td>\n",
       "    </tr>\n",
       "    <tr>\n",
       "      <th>Trihalomethanes</th>\n",
       "      <td>0.004460</td>\n",
       "      <td>-0.025106</td>\n",
       "      <td>-0.004758</td>\n",
       "      <td>0.015644</td>\n",
       "      <td>-0.024933</td>\n",
       "      <td>0.000096</td>\n",
       "      <td>-0.006994</td>\n",
       "      <td>1.000000</td>\n",
       "      <td>-0.034581</td>\n",
       "      <td>0.009666</td>\n",
       "    </tr>\n",
       "    <tr>\n",
       "      <th>Turbidity</th>\n",
       "      <td>-0.020666</td>\n",
       "      <td>-0.006441</td>\n",
       "      <td>0.012661</td>\n",
       "      <td>-0.006820</td>\n",
       "      <td>-0.005274</td>\n",
       "      <td>0.004164</td>\n",
       "      <td>-0.008384</td>\n",
       "      <td>-0.034581</td>\n",
       "      <td>1.000000</td>\n",
       "      <td>0.003172</td>\n",
       "    </tr>\n",
       "    <tr>\n",
       "      <th>Potability</th>\n",
       "      <td>-0.018887</td>\n",
       "      <td>-0.008904</td>\n",
       "      <td>0.036320</td>\n",
       "      <td>0.016667</td>\n",
       "      <td>-0.037177</td>\n",
       "      <td>-0.008071</td>\n",
       "      <td>-0.024479</td>\n",
       "      <td>0.009666</td>\n",
       "      <td>0.003172</td>\n",
       "      <td>1.000000</td>\n",
       "    </tr>\n",
       "  </tbody>\n",
       "</table>\n",
       "</div>"
      ],
      "text/plain": [
       "                       ph  Hardness    Solids  Chloramines   Sulfate  \\\n",
       "ph               1.000000  0.108426 -0.104319    -0.031725 -0.005919   \n",
       "Hardness         0.108426  1.000000 -0.068997    -0.029451 -0.119410   \n",
       "Solids          -0.104319 -0.068997  1.000000    -0.072097 -0.165942   \n",
       "Chloramines     -0.031725 -0.029451 -0.072097     1.000000  0.032420   \n",
       "Sulfate         -0.005919 -0.119410 -0.165942     0.032420  1.000000   \n",
       "Conductivity     0.025069 -0.015325  0.014450    -0.018341 -0.020949   \n",
       "Organic_carbon   0.045838  0.011500  0.007705    -0.017692  0.060243   \n",
       "Trihalomethanes  0.004460 -0.025106 -0.004758     0.015644 -0.024933   \n",
       "Turbidity       -0.020666 -0.006441  0.012661    -0.006820 -0.005274   \n",
       "Potability      -0.018887 -0.008904  0.036320     0.016667 -0.037177   \n",
       "\n",
       "                 Conductivity  Organic_carbon  Trihalomethanes  Turbidity  \\\n",
       "ph                   0.025069        0.045838         0.004460  -0.020666   \n",
       "Hardness            -0.015325        0.011500        -0.025106  -0.006441   \n",
       "Solids               0.014450        0.007705        -0.004758   0.012661   \n",
       "Chloramines         -0.018341       -0.017692         0.015644  -0.006820   \n",
       "Sulfate             -0.020949        0.060243        -0.024933  -0.005274   \n",
       "Conductivity         1.000000        0.040572         0.000096   0.004164   \n",
       "Organic_carbon       0.040572        1.000000        -0.006994  -0.008384   \n",
       "Trihalomethanes      0.000096       -0.006994         1.000000  -0.034581   \n",
       "Turbidity            0.004164       -0.008384        -0.034581   1.000000   \n",
       "Potability          -0.008071       -0.024479         0.009666   0.003172   \n",
       "\n",
       "                 Potability  \n",
       "ph                -0.018887  \n",
       "Hardness          -0.008904  \n",
       "Solids             0.036320  \n",
       "Chloramines        0.016667  \n",
       "Sulfate           -0.037177  \n",
       "Conductivity      -0.008071  \n",
       "Organic_carbon    -0.024479  \n",
       "Trihalomethanes    0.009666  \n",
       "Turbidity          0.003172  \n",
       "Potability         1.000000  "
      ]
     },
     "execution_count": 286,
     "metadata": {},
     "output_type": "execute_result"
    }
   ],
   "source": [
    "df.corr()"
   ]
  },
  {
   "cell_type": "code",
   "execution_count": 441,
   "metadata": {},
   "outputs": [],
   "source": [
    "X_cols = [\"ph\", \"Solids\", \"Chloramines\", \"Sulfate\", \"Conductivity\", \"Organic_carbon\", \"Trihalomethanes\", \"Turbidity\"]\n",
    "Y_col = df.columns[-1]"
   ]
  },
  {
   "cell_type": "code",
   "execution_count": 442,
   "metadata": {},
   "outputs": [],
   "source": [
    "from sklearn.impute import SimpleImputer\n",
    "\n",
    "med_imputer = SimpleImputer(strategy=\"median\", add_indicator=True)"
   ]
  },
  {
   "cell_type": "code",
   "execution_count": 443,
   "metadata": {},
   "outputs": [],
   "source": [
    "from sklearn.model_selection import train_test_split\n",
    "\n",
    "X_train, X_test, Y_train, Y_test = train_test_split(df[X_cols], df[Y_col], random_state = 45, test_size = 0.1)"
   ]
  },
  {
   "cell_type": "code",
   "execution_count": 444,
   "metadata": {},
   "outputs": [],
   "source": [
    "from sklearn.preprocessing import normalize\n",
    "\n",
    "X_train_impute = med_imputer.fit_transform(X_train)\n",
    "X_test_impute = med_imputer.transform(X_test)\n",
    "\n",
    "# X_train_impute = normalize(med_imputer.fit_transform(X_train))\n",
    "# X_test_impute = normalize(med_imputer.transform(X_test))"
   ]
  },
  {
   "cell_type": "code",
   "execution_count": 445,
   "metadata": {},
   "outputs": [],
   "source": [
    "from sklearn.metrics import accuracy_score\n",
    "\n",
    "def cal_acc(model):\n",
    "    Y_pred = model.predict(X_test_impute)\n",
    "    print(accuracy_score(Y_test, Y_pred))"
   ]
  },
  {
   "cell_type": "code",
   "execution_count": 446,
   "metadata": {},
   "outputs": [
    {
     "name": "stdout",
     "output_type": "stream",
     "text": [
      "0.6221374045801527\n"
     ]
    }
   ],
   "source": [
    "from sklearn.pipeline import make_pipeline\n",
    "from sklearn.preprocessing import StandardScaler\n",
    "\n",
    "svm = make_pipeline(StandardScaler(), SVC(kernel=\"rbf\", gamma=\"auto\", degree=3, C=100))\n",
    "svm.fit(X_train_impute, Y_train)\n",
    "cal_acc(svm)"
   ]
  },
  {
   "cell_type": "code",
   "execution_count": 447,
   "metadata": {},
   "outputs": [
    {
     "name": "stdout",
     "output_type": "stream",
     "text": [
      "0.5763358778625954\n"
     ]
    }
   ],
   "source": [
    "log_res = make_pipeline(StandardScaler(), LogisticRegression())\n",
    "log_res.fit(X_train_impute, Y_train)\n",
    "cal_acc(log_res)"
   ]
  },
  {
   "cell_type": "code",
   "execution_count": 448,
   "metadata": {},
   "outputs": [
    {
     "name": "stdout",
     "output_type": "stream",
     "text": [
      "0.6106870229007634\n"
     ]
    }
   ],
   "source": [
    "from sklearn.naive_bayes import GaussianNB, CategoricalNB, ComplementNB\n",
    "\n",
    "x = make_pipeline(StandardScaler(), GaussianNB())\n",
    "x.fit(X_train_impute, Y_train)\n",
    "cal_acc(x)"
   ]
  },
  {
   "cell_type": "code",
   "execution_count": 449,
   "metadata": {},
   "outputs": [
    {
     "name": "stdout",
     "output_type": "stream",
     "text": [
      "0.5801526717557252\n"
     ]
    }
   ],
   "source": [
    "from sklearn.tree import DecisionTreeClassifier, ExtraTreeClassifier\n",
    "\n",
    "dtr = make_pipeline(StandardScaler(), DecisionTreeClassifier(criterion=\"gini\", random_state= 48, splitter=\"random\", min_samples_split=10, max_depth=12))\n",
    "dtr.fit(X_train_impute, Y_train)\n",
    "cal_acc(dtr)"
   ]
  },
  {
   "cell_type": "code",
   "execution_count": 450,
   "metadata": {},
   "outputs": [
    {
     "name": "stdout",
     "output_type": "stream",
     "text": [
      "0.5916030534351145\n"
     ]
    }
   ],
   "source": [
    "etr = make_pipeline(StandardScaler(), ExtraTreeClassifier(criterion=\"gini\", random_state= 48, splitter=\"random\", min_samples_split=10, max_depth=8))\n",
    "etr.fit(X_train_impute, Y_train)\n",
    "cal_acc(etr)"
   ]
  },
  {
   "cell_type": "code",
   "execution_count": 451,
   "metadata": {},
   "outputs": [
    {
     "name": "stdout",
     "output_type": "stream",
     "text": [
      "0.5916030534351145\n"
     ]
    }
   ],
   "source": [
    "from sklearn.ensemble import RandomForestClassifier\n",
    "\n",
    "rfr = make_pipeline(StandardScaler(), RandomForestClassifier(min_samples_split=10))\n",
    "rfr.fit(X_train_impute, Y_train)\n",
    "cal_acc(rfr)"
   ]
  },
  {
   "cell_type": "code",
   "execution_count": 452,
   "metadata": {},
   "outputs": [
    {
     "name": "stdout",
     "output_type": "stream",
     "text": [
      "74/74 [==============================] - 0s 1ms/step - loss: nan - accuracy: 0.5920  \n"
     ]
    },
    {
     "data": {
      "text/plain": [
       "<keras.src.callbacks.History at 0x235ef45bd30>"
      ]
     },
     "execution_count": 452,
     "metadata": {},
     "output_type": "execute_result"
    }
   ],
   "source": [
    "import tensorflow as tf\n",
    "\n",
    "model = tf.keras.models.Sequential([\n",
    "  tf.keras.layers.Dense(256),\n",
    "  tf.keras.layers.Dropout(0.2),\n",
    "  tf.keras.layers.Dense(1, activation='sigmoid')\n",
    "    # tf.keras.layers.SoftMax()\n",
    "])\n",
    "model.compile(optimizer=tf.keras.optimizers.SGD(),\n",
    "              loss=tf.keras.losses.BinaryCrossentropy(),\n",
    "              metrics=['accuracy'])\n",
    "model.fit(X_train_impute, Y_train)"
   ]
  },
  {
   "cell_type": "code",
   "execution_count": 453,
   "metadata": {},
   "outputs": [
    {
     "name": "stdout",
     "output_type": "stream",
     "text": [
      "9/9 [==============================] - 0s 2ms/step - loss: nan - accuracy: 0.5725\n"
     ]
    },
    {
     "data": {
      "text/plain": [
       "[nan, 0.572519063949585]"
      ]
     },
     "execution_count": 453,
     "metadata": {},
     "output_type": "execute_result"
    }
   ],
   "source": [
    "model.evaluate(X_test_impute, Y_test)"
   ]
  },
  {
   "cell_type": "code",
   "execution_count": 454,
   "metadata": {},
   "outputs": [
    {
     "name": "stdout",
     "output_type": "stream",
     "text": [
      "9/9 [==============================] - 0s 1ms/step\n",
      "[nan]\n",
      "[nan]\n",
      "[nan]\n",
      "[nan]\n",
      "[nan]\n",
      "[nan]\n",
      "[nan]\n",
      "[nan]\n",
      "[nan]\n",
      "[nan]\n",
      "[nan]\n",
      "[nan]\n",
      "[nan]\n",
      "[nan]\n",
      "[nan]\n",
      "[nan]\n",
      "[nan]\n",
      "[nan]\n",
      "[nan]\n",
      "[nan]\n",
      "[nan]\n",
      "[nan]\n",
      "[nan]\n",
      "[nan]\n",
      "[nan]\n",
      "[nan]\n",
      "[nan]\n",
      "[nan]\n",
      "[nan]\n",
      "[nan]\n",
      "[nan]\n",
      "[nan]\n",
      "[nan]\n",
      "[nan]\n",
      "[nan]\n",
      "[nan]\n",
      "[nan]\n",
      "[nan]\n",
      "[nan]\n",
      "[nan]\n",
      "[nan]\n",
      "[nan]\n",
      "[nan]\n",
      "[nan]\n",
      "[nan]\n",
      "[nan]\n",
      "[nan]\n",
      "[nan]\n",
      "[nan]\n",
      "[nan]\n",
      "[nan]\n",
      "[nan]\n",
      "[nan]\n",
      "[nan]\n",
      "[nan]\n",
      "[nan]\n",
      "[nan]\n",
      "[nan]\n",
      "[nan]\n",
      "[nan]\n",
      "[nan]\n",
      "[nan]\n",
      "[nan]\n",
      "[nan]\n",
      "[nan]\n",
      "[nan]\n",
      "[nan]\n",
      "[nan]\n",
      "[nan]\n",
      "[nan]\n",
      "[nan]\n",
      "[nan]\n",
      "[nan]\n",
      "[nan]\n",
      "[nan]\n",
      "[nan]\n",
      "[nan]\n",
      "[nan]\n",
      "[nan]\n",
      "[nan]\n",
      "[nan]\n",
      "[nan]\n",
      "[nan]\n",
      "[nan]\n",
      "[nan]\n",
      "[nan]\n",
      "[nan]\n",
      "[nan]\n",
      "[nan]\n",
      "[nan]\n",
      "[nan]\n",
      "[nan]\n",
      "[nan]\n",
      "[nan]\n",
      "[nan]\n",
      "[nan]\n",
      "[nan]\n",
      "[nan]\n",
      "[nan]\n",
      "[nan]\n",
      "[nan]\n",
      "[nan]\n",
      "[nan]\n",
      "[nan]\n",
      "[nan]\n",
      "[nan]\n",
      "[nan]\n",
      "[nan]\n",
      "[nan]\n",
      "[nan]\n",
      "[nan]\n",
      "[nan]\n",
      "[nan]\n",
      "[nan]\n",
      "[nan]\n",
      "[nan]\n",
      "[nan]\n",
      "[nan]\n",
      "[nan]\n",
      "[nan]\n",
      "[nan]\n",
      "[nan]\n",
      "[nan]\n",
      "[nan]\n",
      "[nan]\n",
      "[nan]\n",
      "[nan]\n",
      "[nan]\n",
      "[nan]\n",
      "[nan]\n",
      "[nan]\n",
      "[nan]\n",
      "[nan]\n",
      "[nan]\n",
      "[nan]\n",
      "[nan]\n",
      "[nan]\n",
      "[nan]\n",
      "[nan]\n",
      "[nan]\n",
      "[nan]\n",
      "[nan]\n",
      "[nan]\n",
      "[nan]\n",
      "[nan]\n",
      "[nan]\n",
      "[nan]\n",
      "[nan]\n",
      "[nan]\n",
      "[nan]\n",
      "[nan]\n",
      "[nan]\n",
      "[nan]\n",
      "[nan]\n",
      "[nan]\n",
      "[nan]\n",
      "[nan]\n",
      "[nan]\n",
      "[nan]\n",
      "[nan]\n",
      "[nan]\n",
      "[nan]\n",
      "[nan]\n",
      "[nan]\n",
      "[nan]\n",
      "[nan]\n",
      "[nan]\n",
      "[nan]\n",
      "[nan]\n",
      "[nan]\n",
      "[nan]\n",
      "[nan]\n",
      "[nan]\n",
      "[nan]\n",
      "[nan]\n",
      "[nan]\n",
      "[nan]\n",
      "[nan]\n",
      "[nan]\n",
      "[nan]\n",
      "[nan]\n",
      "[nan]\n",
      "[nan]\n",
      "[nan]\n",
      "[nan]\n",
      "[nan]\n",
      "[nan]\n",
      "[nan]\n",
      "[nan]\n",
      "[nan]\n",
      "[nan]\n",
      "[nan]\n",
      "[nan]\n",
      "[nan]\n",
      "[nan]\n",
      "[nan]\n",
      "[nan]\n",
      "[nan]\n",
      "[nan]\n",
      "[nan]\n",
      "[nan]\n",
      "[nan]\n",
      "[nan]\n",
      "[nan]\n",
      "[nan]\n",
      "[nan]\n",
      "[nan]\n",
      "[nan]\n",
      "[nan]\n",
      "[nan]\n",
      "[nan]\n",
      "[nan]\n",
      "[nan]\n",
      "[nan]\n",
      "[nan]\n",
      "[nan]\n",
      "[nan]\n",
      "[nan]\n",
      "[nan]\n",
      "[nan]\n",
      "[nan]\n",
      "[nan]\n",
      "[nan]\n",
      "[nan]\n",
      "[nan]\n",
      "[nan]\n",
      "[nan]\n",
      "[nan]\n",
      "[nan]\n",
      "[nan]\n",
      "[nan]\n",
      "[nan]\n",
      "[nan]\n",
      "[nan]\n",
      "[nan]\n",
      "[nan]\n",
      "[nan]\n",
      "[nan]\n",
      "[nan]\n",
      "[nan]\n",
      "[nan]\n",
      "[nan]\n",
      "[nan]\n",
      "[nan]\n",
      "[nan]\n",
      "[nan]\n",
      "[nan]\n",
      "[nan]\n",
      "[nan]\n",
      "[nan]\n",
      "[nan]\n",
      "[nan]\n",
      "[nan]\n",
      "[nan]\n",
      "[nan]\n",
      "[nan]\n",
      "[nan]\n",
      "[nan]\n",
      "[nan]\n",
      "[nan]\n",
      "[nan]\n",
      "[nan]\n",
      "0\n"
     ]
    }
   ],
   "source": [
    "count = 0\n",
    "for i in model.predict(X_test_impute):\n",
    "    print(i)\n",
    "    if i > 0.4175:\n",
    "        count += 1\n",
    "\n",
    "print(count)"
   ]
  },
  {
   "cell_type": "code",
   "execution_count": 455,
   "metadata": {},
   "outputs": [],
   "source": [
    "test = pd.read_csv(\"test.csv\")\n",
    "\n",
    "test_impute = med_imputer.transform(test[X_cols])\n",
    "\n",
    "def make_sol(model, file_name) :\n",
    "    test[\"Potability\"] = pd.DataFrame(model.predict(test_impute))\n",
    "    test[[\"id\", \"Potability\"]].to_csv(f\"{file_name}.csv\", index=False)\n",
    "\n",
    "make_sol(svm, \"svm_sub\")"
   ]
  },
  {
   "cell_type": "code",
   "execution_count": 456,
   "metadata": {},
   "outputs": [],
   "source": [
    "make_sol(x, \"nb_sub\")\n",
    "make_sol(rfr, \"rfr_sub\")"
   ]
  },
  {
   "cell_type": "code",
   "execution_count": 457,
   "metadata": {},
   "outputs": [
    {
     "name": "stdout",
     "output_type": "stream",
     "text": [
      "21/21 [==============================] - 0s 824us/step\n"
     ]
    }
   ],
   "source": [
    "with open(\"nn_sub.csv\", \"w\") as f:\n",
    "    k = 1\n",
    "    f.write(\"id,Potability\\n\")\n",
    "    for i in model.predict(test_impute):\n",
    "        # print(i)\n",
    "        f.write(str(k) + \",\" + (\"1\" if i > 0.4175 else \"0\") + \"\\n\")\n",
    "        k += 1"
   ]
  },
  {
   "cell_type": "code",
   "execution_count": 464,
   "metadata": {},
   "outputs": [
    {
     "name": "stdout",
     "output_type": "stream",
     "text": [
      "0.6030534351145038\n"
     ]
    },
    {
     "name": "stderr",
     "output_type": "stream",
     "text": [
      "c:\\Users\\reddy\\anaconda3\\lib\\site-packages\\sklearn\\neural_network\\_multilayer_perceptron.py:692: ConvergenceWarning: Stochastic Optimizer: Maximum iterations (400) reached and the optimization hasn't converged yet.\n",
      "  warnings.warn(\n"
     ]
    }
   ],
   "source": [
    "from sklearn.neural_network import MLPClassifier\n",
    "\n",
    "mlp = make_pipeline(StandardScaler(), MLPClassifier(hidden_layer_sizes=(256, ), activation=\"relu\", solver=\"adam\", learning_rate=\"invscaling\", power_t=0.5, max_iter=400))\n",
    "mlp.fit(X_train_impute, Y_train)\n",
    "\n",
    "cal_acc(mlp)"
   ]
  },
  {
   "cell_type": "code",
   "execution_count": 463,
   "metadata": {},
   "outputs": [],
   "source": [
    "make_sol(mlp, \"mlp_sub\")"
   ]
  }
 ],
 "metadata": {
  "kernelspec": {
   "display_name": "base",
   "language": "python",
   "name": "python3"
  },
  "language_info": {
   "codemirror_mode": {
    "name": "ipython",
    "version": 3
   },
   "file_extension": ".py",
   "mimetype": "text/x-python",
   "name": "python",
   "nbconvert_exporter": "python",
   "pygments_lexer": "ipython3",
   "version": "3.9.13"
  }
 },
 "nbformat": 4,
 "nbformat_minor": 2
}
